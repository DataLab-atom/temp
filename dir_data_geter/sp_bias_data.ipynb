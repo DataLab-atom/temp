{
 "cells": [
  {
   "cell_type": "code",
   "execution_count": null,
   "metadata": {},
   "outputs": [],
   "source": [
    "import torchvision\n",
    "import matplotlib.pyplot as plt\n",
    "import numpy as np\n",
    "import sys\n",
    "from util import *"
   ]
  },
  {
   "cell_type": "markdown",
   "metadata": {},
   "source": [
    "设置超参数用于确定生成什么样子的数据集，然后获取数据"
   ]
  },
  {
   "cell_type": "code",
   "execution_count": null,
   "metadata": {},
   "outputs": [],
   "source": [
    "bias = 0.9\n",
    "#data_setname in ['mnist','kuzu','fashion']\n",
    "data_setname = 'kuzu'\n",
    "split = 'test'\n",
    "sp = 75\n",
    "data,lable = get_data(data_setname,split)"
   ]
  },
  {
   "cell_type": "markdown",
   "metadata": {},
   "source": [
    "获取偏置数据集"
   ]
  },
  {
   "cell_type": "code",
   "execution_count": null,
   "metadata": {},
   "outputs": [],
   "source": [
    "bias_train_data,bais_data_index,no_bais_data_index = get_bais_data(data,lable,bias)"
   ]
  },
  {
   "cell_type": "markdown",
   "metadata": {},
   "source": [
    "保存偏置数据集"
   ]
  },
  {
   "cell_type": "code",
   "execution_count": null,
   "metadata": {},
   "outputs": [],
   "source": [
    "save_bias_data(bias_train_data,lable,sp,data_setname,bias,split)"
   ]
  },
  {
   "cell_type": "markdown",
   "metadata": {},
   "source": [
    "获取超像素（sp）数据集"
   ]
  },
  {
   "cell_type": "code",
   "execution_count": null,
   "metadata": {},
   "outputs": [],
   "source": [
    "n_images = len(bias_train_data)\n",
    "temp_sp_data = []\n",
    "for i in range(n_images):\n",
    "    temp_sp_data.append(process_image(np.array(bias_train_data[i]), i, n_images, True, True))"
   ]
  },
  {
   "cell_type": "markdown",
   "metadata": {},
   "source": [
    "保存"
   ]
  },
  {
   "cell_type": "code",
   "execution_count": null,
   "metadata": {},
   "outputs": [],
   "source": [
    "save_sp_bias_data(lable,temp_sp_data,sp,data_setname,bias,split)"
   ]
  },
  {
   "cell_type": "code",
   "execution_count": null,
   "metadata": {},
   "outputs": [],
   "source": []
  },
  {
   "cell_type": "code",
   "execution_count": null,
   "metadata": {},
   "outputs": [],
   "source": [
    "def have_no_name(bias,data_setname,split,sp):\n",
    "    data,lable = get_data(data_setname,split)\n",
    "    bias_train_data,bais_data_index,no_bais_data_index = get_bais_data(data,lable,bias)\n",
    "    save_bias_data(bias_train_data,lable,sp,data_setname,bias,split)\n",
    "    n_images = len(bias_train_data)\n",
    "    temp_sp_data = []\n",
    "    for i in range(n_images):\n",
    "        temp_sp_data.append(process_image(np.array(bias_train_data[i]), i, n_images, True, True))\n",
    "    save_sp_bias_data(lable,temp_sp_data,sp,data_setname,bias,split)"
   ]
  },
  {
   "cell_type": "code",
   "execution_count": null,
   "metadata": {},
   "outputs": [],
   "source": [
    "biases = [0.8,0.85,0.9,0.95]\n",
    "names = ['mnist','kuzu','fashion']\n",
    "sp = 75\n",
    "for bias in biases:\n",
    "    for data_name in names:\n",
    "        have_no_name(bias,data_name,'train',sp)\n",
    "        have_no_name(bias,data_name,'test',sp)"
   ]
  }
 ],
 "metadata": {
  "kernelspec": {
   "display_name": "Python 3",
   "language": "python",
   "name": "python3"
  },
  "language_info": {
   "codemirror_mode": {
    "name": "ipython",
    "version": 3
   },
   "file_extension": ".py",
   "mimetype": "text/x-python",
   "name": "python",
   "nbconvert_exporter": "python",
   "pygments_lexer": "ipython3",
   "version": "3.7.9"
  },
  "orig_nbformat": 4
 },
 "nbformat": 4,
 "nbformat_minor": 2
}
