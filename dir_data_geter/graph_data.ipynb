{
 "cells": [
  {
   "cell_type": "code",
   "execution_count": null,
   "metadata": {},
   "outputs": [],
   "source": [
    "from graph_data import MNIST75sp,collate,make_sp_biasdataset\n",
    "from torch_geometric.data import Dataset, Data,InMemoryDataset\n",
    "import numpy as np\n",
    "import torch"
   ]
  },
  {
   "cell_type": "code",
   "execution_count": null,
   "metadata": {},
   "outputs": [],
   "source": [
    "data_set =  MNIST75sp(split='test')\n",
    "my_data = data_set.get_graph_data()\n",
    "data,slice = collate(my_data)"
   ]
  },
  {
   "cell_type": "code",
   "execution_count": null,
   "metadata": {},
   "outputs": [],
   "source": [
    "biases = [0.8,0.85,0.9,0.95]\n",
    "names = ['mnist','kuzu','fashion']\n",
    "sp = 75\n",
    "for bias in biases:\n",
    "    for data_name in names:\n",
    "        make_sp_biasdataset(data_name,sp,bias,'train')\n",
    "        make_sp_biasdataset(data_name,sp,bias,'test')"
   ]
  },
  {
   "cell_type": "code",
   "execution_count": null,
   "metadata": {},
   "outputs": [],
   "source": []
  },
  {
   "cell_type": "code",
   "execution_count": null,
   "metadata": {},
   "outputs": [],
   "source": []
  }
 ],
 "metadata": {
  "kernelspec": {
   "display_name": "Python 3",
   "language": "python",
   "name": "python3"
  },
  "language_info": {
   "codemirror_mode": {
    "name": "ipython",
    "version": 3
   },
   "file_extension": ".py",
   "mimetype": "text/x-python",
   "name": "python",
   "nbconvert_exporter": "python",
   "pygments_lexer": "ipython3",
   "version": "3.7.9"
  },
  "orig_nbformat": 4
 },
 "nbformat": 4,
 "nbformat_minor": 2
}
